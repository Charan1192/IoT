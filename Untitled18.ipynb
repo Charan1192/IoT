{
  "nbformat": 4,
  "nbformat_minor": 0,
  "metadata": {
    "colab": {
      "provenance": [],
      "history_visible": true,
      "authorship_tag": "ABX9TyOtOB6pQtIrrXa49z9TjZf7",
      "include_colab_link": true
    },
    "kernelspec": {
      "name": "python3",
      "display_name": "Python 3"
    },
    "language_info": {
      "name": "python"
    }
  },
  "cells": [
    {
      "cell_type": "markdown",
      "metadata": {
        "id": "view-in-github",
        "colab_type": "text"
      },
      "source": [
        "<a href=\"https://colab.research.google.com/github/Charan1192/IoT/blob/main/Untitled18.ipynb\" target=\"_parent\"><img src=\"https://colab.research.google.com/assets/colab-badge.svg\" alt=\"Open In Colab\"/></a>"
      ]
    },
    {
      "cell_type": "code",
      "execution_count": null,
      "metadata": {
        "colab": {
          "base_uri": "https://localhost:8080/",
          "height": 504
        },
        "id": "cfGAftlgAXDV",
        "outputId": "2cdf72ba-1cf2-4f46-f7f4-33c30a5f8b0f"
      },
      "outputs": [
        {
          "output_type": "stream",
          "name": "stdout",
          "text": [
            "Best hyperparameters: {'C': 10, 'decision_function_shape': 'ovo', 'degree': 1, 'gamma': 'scale', 'kernel': 'linear'}\n",
            "Accuracy: 0.8285714285714285\n"
          ]
        },
        {
          "output_type": "display_data",
          "data": {
            "text/plain": [
              "<Figure size 640x480 with 2 Axes>"
            ],
            "image/png": "[encoded data removed]"
          },
          "metadata": {}
        }
      ],
      "source": [
        "from scipy.spatial import distance\n",
        "# Import necessary libraries\n",
        "import pandas as pd\n",
        "import numpy as np\n",
        "from sklearn.model_selection import train_test_split, cross_val_score\n",
        "from sklearn import svm\n",
        "from sklearn.metrics import confusion_matrix, accuracy_score\n",
        "import matplotlib.pyplot as plt\n",
        "import seaborn as sns\n",
        "from sklearn.model_selection import GridSearchCV\n",
        "from sklearn.pipeline import Pipeline\n",
        "from sklearn.preprocessing import StandardScaler\n",
        "\n",
        "# Load the data\n",
        "data = pd.read_csv('/content/clean.csv')\n",
        "\n",
        "# Split the data into features and target\n",
        "X = data.iloc[:, 1:6].values\n",
        "y = data.iloc[:, 6].values\n",
        "X = X.astype(np.float32)\n",
        "\n",
        "# create pipeline with standard scaler and svm\n",
        "svm= svm.SVC()\n",
        "\n",
        "# define hyperparameters to tune\n",
        "param_grid = {'kernel':['linear', 'rbf','sigmoid'],'C':[1,2,10],\n",
        "              'degree':[1,2,3],'gamma':['scale', 'auto'],'decision_function_shape':['ovo', 'ovr']}\n",
        "\n",
        "# create grid search object\n",
        "grid_search = GridSearchCV(svm, param_grid=param_grid, cv=10, scoring='accuracy',return_train_score=True)\n",
        "# Split the data into training and testing sets\n",
        "X_train, X_test, y_train, y_test = train_test_split(X, y, test_size=0.2, random_state=4)\n",
        "# fit grid search object to the data\n",
        "grid_search.fit(X_train, y_train)\n",
        "\n",
        "# get best estimator\n",
        "best_estimator = grid_search.best_estimator_\n",
        "\n",
        "# print best hyperparameters and accuracy\n",
        "print('Best hyperparameters:', grid_search.best_params_)\n",
        "print('Accuracy:', grid_search.best_score_)\n",
        "\n",
        "# use best estimator to make predictions on test set\n",
        "y_pred = best_estimator.predict(X_test)\n",
        "# Create a confusion matrix\n",
        "cm = confusion_matrix(y_test.astype(str), y_pred.astype(str))\n",
        "\n",
        "# Plot the confusion matrix as a heatmap\n",
        "sns.heatmap(cm, annot=True, cmap=\"Blues\")\n",
        "plt.xlabel('Predicted')\n",
        "plt.ylabel('True')\n",
        "plt.show()"
      ]
    }
  ]
}