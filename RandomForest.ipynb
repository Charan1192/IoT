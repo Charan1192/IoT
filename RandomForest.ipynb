{
  "nbformat": 4,
  "nbformat_minor": 0,
  "metadata": {
    "colab": {
      "provenance": [],
      "authorship_tag": "ABX9TyO8078uzjODg+4H7w095836",
      "include_colab_link": true
    },
    "kernelspec": {
      "name": "python3",
      "display_name": "Python 3"
    },
    "language_info": {
      "name": "python"
    }
  },
  "cells": [
    {
      "cell_type": "markdown",
      "metadata": {
        "id": "view-in-github",
        "colab_type": "text"
      },
      "source": [
        "<a href=\"https://colab.research.google.com/github/Charan1192/IoT/blob/main/RandomForest.ipynb\" target=\"_parent\"><img src=\"https://colab.research.google.com/assets/colab-badge.svg\" alt=\"Open In Colab\"/></a>"
      ]
    },
    {
      "cell_type": "code",
      "execution_count": null,
      "metadata": {
        "colab": {
          "base_uri": "https://localhost:8080/",
          "height": 504
        },
        "id": "72cu2BEkuXnN",
        "outputId": "8e4cc642-50d7-4ffd-b128-4e0310101597"
      },
      "outputs": [
        {
          "output_type": "stream",
          "name": "stdout",
          "text": [
            "Best hyperparameters: {'rf__criterion': 'gini', 'rf__max_depth': 5, 'rf__min_samples_split': 5}\n",
            "Accuracy: 0.8673809523809524\n"
          ]
        },
        {
          "output_type": "display_data",
          "data": {
            "text/plain": [
              "<Figure size 640x480 with 2 Axes>"
            ],
            "image/png": "[encoded data removed]"
          },
          "metadata": {}
        }
      ],
      "source": [
        "# Import necessary libraries\n",
        "import pandas as pd\n",
        "import numpy as np\n",
        "from sklearn.model_selection import train_test_split, cross_val_score\n",
        "from sklearn.ensemble import RandomForestClassifier\n",
        "from sklearn.metrics import confusion_matrix, accuracy_score\n",
        "import matplotlib.pyplot as plt\n",
        "import seaborn as sns\n",
        "from sklearn.model_selection import GridSearchCV\n",
        "from sklearn.pipeline import Pipeline\n",
        "from sklearn.preprocessing import StandardScaler\n",
        "\n",
        "# Load the data\n",
        "data = pd.read_csv('/content/clean.csv')\n",
        "\n",
        "# Split the data into features and target\n",
        "X = data.iloc[:, 1:6].values\n",
        "y = data.iloc[:, 6].values\n",
        "X = X.astype(np.float32)\n",
        "\n",
        "# create pipeline with standard scaler and decision tree classifier\n",
        "pipeline = Pipeline([('scaler', StandardScaler()), \n",
        "                     ('rf', RandomForestClassifier(random_state=4))])\n",
        "\n",
        "# define hyperparameters to tune\n",
        "param_grid = {'rf__criterion': ['log_loss','gini','entropy'],\n",
        "              'rf__max_depth': [None,2,4,5,8, 10, 15],\n",
        "              'rf__min_samples_split': [2,4, 5, 10]}\n",
        "\n",
        "# create grid search object\n",
        "grid_search = GridSearchCV(pipeline, param_grid=param_grid, cv=10, scoring='accuracy',return_train_score=True)\n",
        "# Split the data into training and testing sets\n",
        "X_train, X_test, y_train, y_test = train_test_split(X, y, test_size=0.2, random_state=42)\n",
        "# fit grid search object to the data\n",
        "grid_search.fit(X_train, y_train)\n",
        "\n",
        "# get best estimator\n",
        "best_estimator = grid_search.best_estimator_\n",
        "\n",
        "# print best hyperparameters and accuracy\n",
        "print('Best hyperparameters:', grid_search.best_params_)\n",
        "print('Accuracy:', grid_search.best_score_)\n",
        "\n",
        "# use best estimator to make predictions on test set\n",
        "y_pred = best_estimator.predict(X_test)\n",
        "# Create a confusion matrix\n",
        "cm = confusion_matrix(y_test, y_pred)\n",
        "\n",
        "# Plot the confusion matrix as a heatmap\n",
        "sns.heatmap(cm, annot=True, cmap=\"Blues\")\n",
        "plt.xlabel('Predicted')\n",
        "plt.ylabel('True')\n",
        "plt.show()"
      ]
    }
  ]
}