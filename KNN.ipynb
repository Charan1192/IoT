{
  "nbformat": 4,
  "nbformat_minor": 0,
  "metadata": {
    "colab": {
      "provenance": [],
      "authorship_tag": "ABX9TyN5TsNlvP58/X73/9gj2QH9",
      "include_colab_link": true
    },
    "kernelspec": {
      "name": "python3",
      "display_name": "Python 3"
    },
    "language_info": {
      "name": "python"
    }
  },
  "cells": [
    {
      "cell_type": "markdown",
      "metadata": {
        "id": "view-in-github",
        "colab_type": "text"
      },
      "source": [
        "<a href=\"https://colab.research.google.com/github/Charan1192/IoT/blob/main/KNN.ipynb\" target=\"_parent\"><img src=\"https://colab.research.google.com/assets/colab-badge.svg\" alt=\"Open In Colab\"/></a>"
      ]
    },
    {
      "cell_type": "code",
      "execution_count": null,
      "metadata": {
        "colab": {
          "base_uri": "https://localhost:8080/",
          "height": 490
        },
        "id": "KEWNlouXz_Wj",
        "outputId": "5060c496-f0c2-4483-88db-9c7e01afe7e5"
      },
      "outputs": [
        {
          "output_type": "stream",
          "name": "stdout",
          "text": [
            "Best hyperparameters: {'algorithm': 'auto', 'leaf_size': 1, 'n_jobs': 1, 'p': 1, 'weights': 'distance'}\n",
            "Accuracy: 0.8428048780487805\n"
          ]
        },
        {
          "output_type": "display_data",
          "data": {
            "text/plain": [
              "<Figure size 640x480 with 2 Axes>"
            ],
            "image/png": "[encoded data removed]"
          },
          "metadata": {}
        }
      ],
      "source": [
        "from scipy.spatial import distance\n",
        "# Import necessary libraries\n",
        "import pandas as pd\n",
        "import numpy as np\n",
        "from sklearn.model_selection import train_test_split, cross_val_score\n",
        "from sklearn.neighbors import NearestNeighbors\n",
        "from sklearn.neighbors import (NeighborhoodComponentsAnalysis, KNeighborsClassifier)\n",
        "from sklearn.metrics import confusion_matrix, accuracy_score\n",
        "import matplotlib.pyplot as plt\n",
        "import seaborn as sns\n",
        "from sklearn.model_selection import GridSearchCV\n",
        "from sklearn.pipeline import Pipeline\n",
        "from sklearn.preprocessing import StandardScaler\n",
        "\n",
        "# Load the data\n",
        "data = pd.read_csv('/content/clean.csv')\n",
        "\n",
        "# Split the data into features and target\n",
        "X = data.iloc[:, 1:6].values\n",
        "y = data.iloc[:, 6].values\n",
        "X = X.astype(np.float32)\n",
        "\n",
        "# create pipeline with standard scaler and KNeighborsClassifie\n",
        "kn= KNeighborsClassifier(n_neighbors = 4)\n",
        "\n",
        "# define hyperparameters to tune\n",
        "param_grid = {'algorithm':['auto', 'ball_tree', 'kd_tree', 'brute'], \n",
        "              'leaf_size':[1,2,4,5],  \n",
        "              'p':[1,2,4],\n",
        "              'weights':['uniform','distance'],\n",
        "              'n_jobs':[1,-1]}\n",
        "\n",
        "# create grid search object\n",
        "grid_search = GridSearchCV(kn, param_grid=param_grid, cv=10, scoring='accuracy',return_train_score=True)\n",
        "# Split the data into training and testing sets\n",
        "X_train, X_test, y_train, y_test = train_test_split(X, y, test_size=0.2, random_state=42)\n",
        "# fit grid search object to the data\n",
        "grid_search.fit(X_train, y_train)\n",
        "\n",
        "# get best estimator\n",
        "best_estimator = grid_search.best_estimator_\n",
        "\n",
        "# print best hyperparameters and accuracy\n",
        "print('Best hyperparameters:', grid_search.best_params_)\n",
        "print('Accuracy:', grid_search.best_score_)\n",
        "\n",
        "# use best estimator to make predictions on test set\n",
        "y_pred = best_estimator.predict(X_test)\n",
        "# Create a confusion matrix\n",
        "cm = confusion_matrix(y_test, y_pred)\n",
        "\n",
        "# Plot the confusion matrix as a heatmap\n",
        "sns.heatmap(cm, annot=True, cmap=\"Blues\")\n",
        "plt.xlabel('Predicted')\n",
        "plt.ylabel('True')\n",
        "plt.show()"
      ]
    }
  ]
}