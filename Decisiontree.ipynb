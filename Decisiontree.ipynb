{
  "nbformat": 4,
  "nbformat_minor": 0,
  "metadata": {
    "colab": {
      "provenance": [],
      "authorship_tag": "ABX9TyN89FeFkSe43Ek+Xw2P0/Rw",
      "include_colab_link": true
    },
    "kernelspec": {
      "name": "python3",
      "display_name": "Python 3"
    },
    "language_info": {
      "name": "python"
    }
  },
  "cells": [
    {
      "cell_type": "markdown",
      "metadata": {
        "id": "view-in-github",
        "colab_type": "text"
      },
      "source": [
        "<a href=\"https://colab.research.google.com/github/Charan1192/IoT/blob/main/Decisiontree.ipynb\" target=\"_parent\"><img src=\"https://colab.research.google.com/assets/colab-badge.svg\" alt=\"Open In Colab\"/></a>"
      ]
    },
    {
      "cell_type": "code",
      "execution_count": null,
      "metadata": {
        "colab": {
          "base_uri": "https://localhost:8080/",
          "height": 484
        },
        "id": "03JyZs0TJI6h",
        "outputId": "5a9c34ca-bcf2-4441-dd86-45d933729d15"
      },
      "outputs": [
        {
          "output_type": "stream",
          "name": "stdout",
          "text": [
            "Best hyperparameters: {'clf__criterion': 'gini', 'clf__max_depth': 5, 'clf__min_samples_split': 2}\n",
            "Accuracy: 0.8523809523809524\n"
          ]
        },
        {
          "output_type": "display_data",
          "data": {
            "text/plain": [
              "<Figure size 640x480 with 2 Axes>"
            ],
            "image/png": "[encoded data removed]"
          },
          "metadata": {}
        }
      ],
      "source": [
        "# Import necessary libraries\n",
        "import pandas as pd\n",
        "import numpy as np\n",
        "from sklearn.model_selection import train_test_split, cross_val_score\n",
        "from sklearn.tree import DecisionTreeClassifier\n",
        "from sklearn.metrics import confusion_matrix, accuracy_score\n",
        "import matplotlib.pyplot as plt\n",
        "import seaborn as sns\n",
        "from sklearn.model_selection import GridSearchCV\n",
        "from sklearn.pipeline import Pipeline\n",
        "from sklearn.preprocessing import StandardScaler\n",
        "\n",
        "# Load the data\n",
        "data = pd.read_csv('/content/clean.csv')\n",
        "\n",
        "# Split the data into features and target\n",
        "X = data.iloc[:, 1:6].values\n",
        "y = data.iloc[:, 6].values\n",
        "X = X.astype(np.float32)\n",
        "\n",
        "# create pipeline with standard scaler and decision tree classifier\n",
        "pipeline = Pipeline([('scaler', StandardScaler()), \n",
        "                     ('clf', DecisionTreeClassifier(random_state=42))])\n",
        "\n",
        "# define hyperparameters to tune\n",
        "param_grid = {'clf__criterion': ['log_loss','gini','entropy'],\n",
        "              'clf__max_depth': [None, 5, 10, 15],\n",
        "              'clf__min_samples_split': [2, 5, 10]}\n",
        "\n",
        "# create grid search object\n",
        "grid_search = GridSearchCV(pipeline, param_grid=param_grid, cv=10, scoring='accuracy')\n",
        "# Split the data into training and testing sets\n",
        "X_train, X_test, y_train, y_test = train_test_split(X, y, test_size=0.2, random_state=42)\n",
        "# fit grid search object to the data\n",
        "grid_search.fit(X_train, y_train)\n",
        "\n",
        "# get best estimator\n",
        "best_estimator = grid_search.best_estimator_\n",
        "\n",
        "# print best hyperparameters and accuracy\n",
        "print('Best hyperparameters:', grid_search.best_params_)\n",
        "print('Accuracy:', grid_search.best_score_)\n",
        "\n",
        "# use best estimator to make predictions on test set\n",
        "y_pred = best_estimator.predict(X_test)\n",
        "# Create a confusion matrix\n",
        "cm = confusion_matrix(y_test, y_pred)\n",
        "\n",
        "# Plot the confusion matrix as a heatmap\n",
        "sns.heatmap(cm, annot=True, cmap=\"Blues\")\n",
        "plt.xlabel('Predicted')\n",
        "plt.ylabel('True')\n",
        "plt.show()"
      ]
    },
    {
      "cell_type": "markdown",
      "source": [],
      "metadata": {
        "id": "D2LdQq-kLjl0"
      }
    }
  ]
}